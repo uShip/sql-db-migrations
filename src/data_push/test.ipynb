{
 "cells": [
  {
   "cell_type": "code",
   "execution_count": 1,
   "metadata": {},
   "outputs": [
    {
     "name": "stdout",
     "output_type": "stream",
     "text": [
      "Collecting snowflake-sqlalchemy\n",
      "  Obtaining dependency information for snowflake-sqlalchemy from https://files.pythonhosted.org/packages/c7/fb/649e1847884019aa7a73ef8436150b14f00baedac13eb4bb6658492682da/snowflake_sqlalchemy-1.5.1-py2.py3-none-any.whl.metadata\n",
      "  Downloading snowflake_sqlalchemy-1.5.1-py2.py3-none-any.whl.metadata (11 kB)\n",
      "Collecting sqlalchemy<2.0.0,>=1.4.0 (from snowflake-sqlalchemy)\n",
      "  Downloading SQLAlchemy-1.4.50.tar.gz (8.5 MB)\n",
      "\u001b[2K     \u001b[90m━━━━━━━━━━━━━━━━━━━━━━━━━━━━━━━━━━━━━━━━\u001b[0m \u001b[32m8.5/8.5 MB\u001b[0m \u001b[31m25.2 MB/s\u001b[0m eta \u001b[36m0:00:00\u001b[0ma \u001b[36m0:00:01\u001b[0m\n",
      "\u001b[?25h  Preparing metadata (setup.py) ... \u001b[?25ldone\n",
      "\u001b[?25hRequirement already satisfied: snowflake-connector-python<4.0.0 in /Users/sjabbireddy/.pyenv/versions/3.10.0/lib/python3.10/site-packages (from snowflake-sqlalchemy) (3.0.4)\n",
      "Requirement already satisfied: asn1crypto<2.0.0,>0.24.0 in /Users/sjabbireddy/.pyenv/versions/3.10.0/lib/python3.10/site-packages (from snowflake-connector-python<4.0.0->snowflake-sqlalchemy) (1.5.1)\n",
      "Requirement already satisfied: cffi<2.0.0,>=1.9 in /Users/sjabbireddy/.pyenv/versions/3.10.0/lib/python3.10/site-packages (from snowflake-connector-python<4.0.0->snowflake-sqlalchemy) (1.15.1)\n",
      "Requirement already satisfied: cryptography<41.0.0,>=3.1.0 in /Users/sjabbireddy/.pyenv/versions/3.10.0/lib/python3.10/site-packages (from snowflake-connector-python<4.0.0->snowflake-sqlalchemy) (40.0.2)\n",
      "Requirement already satisfied: oscrypto<2.0.0 in /Users/sjabbireddy/.pyenv/versions/3.10.0/lib/python3.10/site-packages (from snowflake-connector-python<4.0.0->snowflake-sqlalchemy) (1.3.0)\n",
      "Requirement already satisfied: pyOpenSSL<24.0.0,>=16.2.0 in /Users/sjabbireddy/.pyenv/versions/3.10.0/lib/python3.10/site-packages (from snowflake-connector-python<4.0.0->snowflake-sqlalchemy) (23.2.0)\n",
      "Requirement already satisfied: pycryptodomex!=3.5.0,<4.0.0,>=3.2 in /Users/sjabbireddy/.pyenv/versions/3.10.0/lib/python3.10/site-packages (from snowflake-connector-python<4.0.0->snowflake-sqlalchemy) (3.18.0)\n",
      "Requirement already satisfied: pyjwt<3.0.0 in /Users/sjabbireddy/.pyenv/versions/3.10.0/lib/python3.10/site-packages (from snowflake-connector-python<4.0.0->snowflake-sqlalchemy) (2.7.0)\n",
      "Requirement already satisfied: pytz in /Users/sjabbireddy/.pyenv/versions/3.10.0/lib/python3.10/site-packages (from snowflake-connector-python<4.0.0->snowflake-sqlalchemy) (2023.3)\n",
      "Requirement already satisfied: requests<3.0.0 in /Users/sjabbireddy/.pyenv/versions/3.10.0/lib/python3.10/site-packages (from snowflake-connector-python<4.0.0->snowflake-sqlalchemy) (2.30.0)\n",
      "Requirement already satisfied: packaging in /Users/sjabbireddy/.pyenv/versions/3.10.0/lib/python3.10/site-packages (from snowflake-connector-python<4.0.0->snowflake-sqlalchemy) (23.1)\n",
      "Requirement already satisfied: charset-normalizer<4,>=2 in /Users/sjabbireddy/.pyenv/versions/3.10.0/lib/python3.10/site-packages (from snowflake-connector-python<4.0.0->snowflake-sqlalchemy) (3.1.0)\n",
      "Requirement already satisfied: idna<4,>=2.5 in /Users/sjabbireddy/.pyenv/versions/3.10.0/lib/python3.10/site-packages (from snowflake-connector-python<4.0.0->snowflake-sqlalchemy) (3.4)\n",
      "Requirement already satisfied: urllib3<1.27,>=1.21.1 in /Users/sjabbireddy/.pyenv/versions/3.10.0/lib/python3.10/site-packages (from snowflake-connector-python<4.0.0->snowflake-sqlalchemy) (1.26.15)\n",
      "Requirement already satisfied: certifi>=2017.4.17 in /Users/sjabbireddy/.pyenv/versions/3.10.0/lib/python3.10/site-packages (from snowflake-connector-python<4.0.0->snowflake-sqlalchemy) (2023.5.7)\n",
      "Requirement already satisfied: typing-extensions<5,>=4.3 in /Users/sjabbireddy/.pyenv/versions/3.10.0/lib/python3.10/site-packages (from snowflake-connector-python<4.0.0->snowflake-sqlalchemy) (4.6.3)\n",
      "Requirement already satisfied: filelock<4,>=3.5 in /Users/sjabbireddy/.local/lib/python3.10/site-packages (from snowflake-connector-python<4.0.0->snowflake-sqlalchemy) (3.12.2)\n",
      "Requirement already satisfied: sortedcontainers>=2.4.0 in /Users/sjabbireddy/.pyenv/versions/3.10.0/lib/python3.10/site-packages (from snowflake-connector-python<4.0.0->snowflake-sqlalchemy) (2.4.0)\n",
      "Requirement already satisfied: pycparser in /Users/sjabbireddy/.pyenv/versions/3.10.0/lib/python3.10/site-packages (from cffi<2.0.0,>=1.9->snowflake-connector-python<4.0.0->snowflake-sqlalchemy) (2.21)\n",
      "Downloading snowflake_sqlalchemy-1.5.1-py2.py3-none-any.whl (39 kB)\n",
      "Building wheels for collected packages: sqlalchemy\n",
      "  Building wheel for sqlalchemy (setup.py) ... \u001b[?25ldone\n",
      "\u001b[?25h  Created wheel for sqlalchemy: filename=SQLAlchemy-1.4.50-cp310-cp310-macosx_12_0_arm64.whl size=1565545 sha256=b1ea09ed52549f93a08ba6c381cdba031b34aa3a3372d6e20d4fe187c9db4e6a\n",
      "  Stored in directory: /Users/sjabbireddy/Library/Caches/pip/wheels/05/1d/2e/f68a305adcda3ccac5118eb14c259c5298b6f2488546a3d082\n",
      "Successfully built sqlalchemy\n",
      "Installing collected packages: sqlalchemy, snowflake-sqlalchemy\n",
      "  Attempting uninstall: sqlalchemy\n",
      "    Found existing installation: SQLAlchemy 2.0.15\n",
      "    Uninstalling SQLAlchemy-2.0.15:\n",
      "      Successfully uninstalled SQLAlchemy-2.0.15\n",
      "\u001b[31mERROR: pip's dependency resolver does not currently take into account all the packages that are installed. This behaviour is the source of the following dependency conflicts.\n",
      "langchain 0.0.192 requires pydantic<2,>=1, but you have pydantic 2.0.3 which is incompatible.\u001b[0m\u001b[31m\n",
      "\u001b[0mSuccessfully installed snowflake-sqlalchemy-1.5.1 sqlalchemy-1.4.50\n",
      "\n",
      "\u001b[1m[\u001b[0m\u001b[34;49mnotice\u001b[0m\u001b[1;39;49m]\u001b[0m\u001b[39;49m A new release of pip is available: \u001b[0m\u001b[31;49m23.2.1\u001b[0m\u001b[39;49m -> \u001b[0m\u001b[32;49m23.3.1\u001b[0m\n",
      "\u001b[1m[\u001b[0m\u001b[34;49mnotice\u001b[0m\u001b[1;39;49m]\u001b[0m\u001b[39;49m To update, run: \u001b[0m\u001b[32;49mpip install --upgrade pip\u001b[0m\n",
      "Note: you may need to restart the kernel to use updated packages.\n"
     ]
    }
   ],
   "source": [
    "pip install --upgrade snowflake-sqlalchemy"
   ]
  },
  {
   "cell_type": "code",
   "execution_count": 6,
   "metadata": {},
   "outputs": [
    {
     "ename": "ValueError",
     "evalue": "('Could not deserialize key data. The data may be in an incorrect format, it may be encrypted with an unsupported algorithm, or it may be an unsupported key type (e.g. EC curves with explicit parameters).', [<OpenSSLError(code=503841036, lib=60, reason=524556, reason_text=unsupported)>])",
     "output_type": "error",
     "traceback": [
      "\u001b[0;31m---------------------------------------------------------------------------\u001b[0m",
      "\u001b[0;31mValueError\u001b[0m                                Traceback (most recent call last)",
      "\u001b[1;32m/Users/sjabbireddy/uship/sql-db-migrations/src/data_push/test.ipynb Cell 2\u001b[0m line \u001b[0;36m1\n\u001b[1;32m      <a href='vscode-notebook-cell:/Users/sjabbireddy/uship/sql-db-migrations/src/data_push/test.ipynb#W5sZmlsZQ%3D%3D?line=8'>9</a>\u001b[0m sf_password \u001b[39m=\u001b[39m \u001b[39m'\u001b[39m\u001b[39mvC4W3GaE@HPPGV\u001b[39m\u001b[39m'\u001b[39m\n\u001b[1;32m     <a href='vscode-notebook-cell:/Users/sjabbireddy/uship/sql-db-migrations/src/data_push/test.ipynb#W5sZmlsZQ%3D%3D?line=10'>11</a>\u001b[0m \u001b[39mwith\u001b[39;00m \u001b[39mopen\u001b[39m(\u001b[39m\"\u001b[39m\u001b[39m/Users/sjabbireddy/uship/sql-db-migrations/src/helpers/.ssh/rsa_key.p8\u001b[39m\u001b[39m\"\u001b[39m, \u001b[39m\"\u001b[39m\u001b[39mrb\u001b[39m\u001b[39m\"\u001b[39m) \u001b[39mas\u001b[39;00m key:\n\u001b[0;32m---> <a href='vscode-notebook-cell:/Users/sjabbireddy/uship/sql-db-migrations/src/data_push/test.ipynb#W5sZmlsZQ%3D%3D?line=11'>12</a>\u001b[0m     p_key\u001b[39m=\u001b[39m serialization\u001b[39m.\u001b[39;49mload_pem_private_key(\n\u001b[1;32m     <a href='vscode-notebook-cell:/Users/sjabbireddy/uship/sql-db-migrations/src/data_push/test.ipynb#W5sZmlsZQ%3D%3D?line=12'>13</a>\u001b[0m         key\u001b[39m.\u001b[39;49mread(),\n\u001b[1;32m     <a href='vscode-notebook-cell:/Users/sjabbireddy/uship/sql-db-migrations/src/data_push/test.ipynb#W5sZmlsZQ%3D%3D?line=13'>14</a>\u001b[0m         password\u001b[39m=\u001b[39;49msf_password\u001b[39m.\u001b[39;49mencode(),\n\u001b[1;32m     <a href='vscode-notebook-cell:/Users/sjabbireddy/uship/sql-db-migrations/src/data_push/test.ipynb#W5sZmlsZQ%3D%3D?line=14'>15</a>\u001b[0m         backend\u001b[39m=\u001b[39;49mdefault_backend()\n\u001b[1;32m     <a href='vscode-notebook-cell:/Users/sjabbireddy/uship/sql-db-migrations/src/data_push/test.ipynb#W5sZmlsZQ%3D%3D?line=15'>16</a>\u001b[0m     )\n\u001b[1;32m     <a href='vscode-notebook-cell:/Users/sjabbireddy/uship/sql-db-migrations/src/data_push/test.ipynb#W5sZmlsZQ%3D%3D?line=17'>18</a>\u001b[0m pkb \u001b[39m=\u001b[39m p_key\u001b[39m.\u001b[39mprivate_bytes(\n\u001b[1;32m     <a href='vscode-notebook-cell:/Users/sjabbireddy/uship/sql-db-migrations/src/data_push/test.ipynb#W5sZmlsZQ%3D%3D?line=18'>19</a>\u001b[0m     encoding\u001b[39m=\u001b[39mserialization\u001b[39m.\u001b[39mEncoding\u001b[39m.\u001b[39mDER,\n\u001b[1;32m     <a href='vscode-notebook-cell:/Users/sjabbireddy/uship/sql-db-migrations/src/data_push/test.ipynb#W5sZmlsZQ%3D%3D?line=19'>20</a>\u001b[0m     \u001b[39mformat\u001b[39m\u001b[39m=\u001b[39mserialization\u001b[39m.\u001b[39mPrivateFormat\u001b[39m.\u001b[39mPKCS8,\n\u001b[1;32m     <a href='vscode-notebook-cell:/Users/sjabbireddy/uship/sql-db-migrations/src/data_push/test.ipynb#W5sZmlsZQ%3D%3D?line=20'>21</a>\u001b[0m     encryption_algorithm\u001b[39m=\u001b[39mserialization\u001b[39m.\u001b[39mNoEncryption())\n\u001b[1;32m     <a href='vscode-notebook-cell:/Users/sjabbireddy/uship/sql-db-migrations/src/data_push/test.ipynb#W5sZmlsZQ%3D%3D?line=22'>23</a>\u001b[0m engine \u001b[39m=\u001b[39m create_engine(URL(\n\u001b[1;32m     <a href='vscode-notebook-cell:/Users/sjabbireddy/uship/sql-db-migrations/src/data_push/test.ipynb#W5sZmlsZQ%3D%3D?line=23'>24</a>\u001b[0m     account\u001b[39m=\u001b[39m\u001b[39m'\u001b[39m\u001b[39mkra67494.us-east-1\u001b[39m\u001b[39m'\u001b[39m,\n\u001b[1;32m     <a href='vscode-notebook-cell:/Users/sjabbireddy/uship/sql-db-migrations/src/data_push/test.ipynb#W5sZmlsZQ%3D%3D?line=24'>25</a>\u001b[0m     user\u001b[39m=\u001b[39m\u001b[39m'\u001b[39m\u001b[39msjabbireddy@uship.com\u001b[39m\u001b[39m'\u001b[39m,\n\u001b[0;32m   (...)\u001b[0m\n\u001b[1;32m     <a href='vscode-notebook-cell:/Users/sjabbireddy/uship/sql-db-migrations/src/data_push/test.ipynb#W5sZmlsZQ%3D%3D?line=28'>29</a>\u001b[0m         },\n\u001b[1;32m     <a href='vscode-notebook-cell:/Users/sjabbireddy/uship/sql-db-migrations/src/data_push/test.ipynb#W5sZmlsZQ%3D%3D?line=29'>30</a>\u001b[0m     )\n",
      "File \u001b[0;32m~/.pyenv/versions/3.10.0/lib/python3.10/site-packages/cryptography/hazmat/primitives/serialization/base.py:24\u001b[0m, in \u001b[0;36mload_pem_private_key\u001b[0;34m(data, password, backend, unsafe_skip_rsa_key_validation)\u001b[0m\n\u001b[1;32m     15\u001b[0m \u001b[39mdef\u001b[39;00m \u001b[39mload_pem_private_key\u001b[39m(\n\u001b[1;32m     16\u001b[0m     data: \u001b[39mbytes\u001b[39m,\n\u001b[1;32m     17\u001b[0m     password: typing\u001b[39m.\u001b[39mOptional[\u001b[39mbytes\u001b[39m],\n\u001b[0;32m   (...)\u001b[0m\n\u001b[1;32m     20\u001b[0m     unsafe_skip_rsa_key_validation: \u001b[39mbool\u001b[39m \u001b[39m=\u001b[39m \u001b[39mFalse\u001b[39;00m,\n\u001b[1;32m     21\u001b[0m ) \u001b[39m-\u001b[39m\u001b[39m>\u001b[39m PrivateKeyTypes:\n\u001b[1;32m     22\u001b[0m     \u001b[39mfrom\u001b[39;00m \u001b[39mcryptography\u001b[39;00m\u001b[39m.\u001b[39;00m\u001b[39mhazmat\u001b[39;00m\u001b[39m.\u001b[39;00m\u001b[39mbackends\u001b[39;00m\u001b[39m.\u001b[39;00m\u001b[39mopenssl\u001b[39;00m\u001b[39m.\u001b[39;00m\u001b[39mbackend\u001b[39;00m \u001b[39mimport\u001b[39;00m backend \u001b[39mas\u001b[39;00m ossl\n\u001b[0;32m---> 24\u001b[0m     \u001b[39mreturn\u001b[39;00m ossl\u001b[39m.\u001b[39;49mload_pem_private_key(\n\u001b[1;32m     25\u001b[0m         data, password, unsafe_skip_rsa_key_validation\n\u001b[1;32m     26\u001b[0m     )\n",
      "File \u001b[0;32m~/.pyenv/versions/3.10.0/lib/python3.10/site-packages/cryptography/hazmat/backends/openssl/backend.py:957\u001b[0m, in \u001b[0;36mBackend.load_pem_private_key\u001b[0;34m(self, data, password, unsafe_skip_rsa_key_validation)\u001b[0m\n\u001b[1;32m    951\u001b[0m \u001b[39mdef\u001b[39;00m \u001b[39mload_pem_private_key\u001b[39m(\n\u001b[1;32m    952\u001b[0m     \u001b[39mself\u001b[39m,\n\u001b[1;32m    953\u001b[0m     data: \u001b[39mbytes\u001b[39m,\n\u001b[1;32m    954\u001b[0m     password: typing\u001b[39m.\u001b[39mOptional[\u001b[39mbytes\u001b[39m],\n\u001b[1;32m    955\u001b[0m     unsafe_skip_rsa_key_validation: \u001b[39mbool\u001b[39m,\n\u001b[1;32m    956\u001b[0m ) \u001b[39m-\u001b[39m\u001b[39m>\u001b[39m PrivateKeyTypes:\n\u001b[0;32m--> 957\u001b[0m     \u001b[39mreturn\u001b[39;00m \u001b[39mself\u001b[39;49m\u001b[39m.\u001b[39;49m_load_key(\n\u001b[1;32m    958\u001b[0m         \u001b[39mself\u001b[39;49m\u001b[39m.\u001b[39;49m_lib\u001b[39m.\u001b[39;49mPEM_read_bio_PrivateKey,\n\u001b[1;32m    959\u001b[0m         data,\n\u001b[1;32m    960\u001b[0m         password,\n\u001b[1;32m    961\u001b[0m         unsafe_skip_rsa_key_validation,\n\u001b[1;32m    962\u001b[0m     )\n",
      "File \u001b[0;32m~/.pyenv/versions/3.10.0/lib/python3.10/site-packages/cryptography/hazmat/backends/openssl/backend.py:1152\u001b[0m, in \u001b[0;36mBackend._load_key\u001b[0;34m(self, openssl_read_func, data, password, unsafe_skip_rsa_key_validation)\u001b[0m\n\u001b[1;32m   1147\u001b[0m             \u001b[39mraise\u001b[39;00m \u001b[39mValueError\u001b[39;00m(\n\u001b[1;32m   1148\u001b[0m                 \u001b[39m\"\u001b[39m\u001b[39mPasswords longer than \u001b[39m\u001b[39m{}\u001b[39;00m\u001b[39m bytes are not supported \u001b[39m\u001b[39m\"\u001b[39m\n\u001b[1;32m   1149\u001b[0m                 \u001b[39m\"\u001b[39m\u001b[39mby this backend.\u001b[39m\u001b[39m\"\u001b[39m\u001b[39m.\u001b[39mformat(userdata\u001b[39m.\u001b[39mmaxsize \u001b[39m-\u001b[39m \u001b[39m1\u001b[39m)\n\u001b[1;32m   1150\u001b[0m             )\n\u001b[1;32m   1151\u001b[0m     \u001b[39melse\u001b[39;00m:\n\u001b[0;32m-> 1152\u001b[0m         \u001b[39mself\u001b[39;49m\u001b[39m.\u001b[39;49m_handle_key_loading_error()\n\u001b[1;32m   1154\u001b[0m evp_pkey \u001b[39m=\u001b[39m \u001b[39mself\u001b[39m\u001b[39m.\u001b[39m_ffi\u001b[39m.\u001b[39mgc(evp_pkey, \u001b[39mself\u001b[39m\u001b[39m.\u001b[39m_lib\u001b[39m.\u001b[39mEVP_PKEY_free)\n\u001b[1;32m   1156\u001b[0m \u001b[39mif\u001b[39;00m password \u001b[39mis\u001b[39;00m \u001b[39mnot\u001b[39;00m \u001b[39mNone\u001b[39;00m \u001b[39mand\u001b[39;00m userdata\u001b[39m.\u001b[39mcalled \u001b[39m==\u001b[39m \u001b[39m0\u001b[39m:\n",
      "File \u001b[0;32m~/.pyenv/versions/3.10.0/lib/python3.10/site-packages/cryptography/hazmat/backends/openssl/backend.py:1207\u001b[0m, in \u001b[0;36mBackend._handle_key_loading_error\u001b[0;34m(self)\u001b[0m\n\u001b[1;32m   1204\u001b[0m     \u001b[39mraise\u001b[39;00m \u001b[39mValueError\u001b[39;00m(\u001b[39m\"\u001b[39m\u001b[39mUnsupported public key algorithm.\u001b[39m\u001b[39m\"\u001b[39m)\n\u001b[1;32m   1206\u001b[0m \u001b[39melse\u001b[39;00m:\n\u001b[0;32m-> 1207\u001b[0m     \u001b[39mraise\u001b[39;00m \u001b[39mValueError\u001b[39;00m(\n\u001b[1;32m   1208\u001b[0m         \u001b[39m\"\u001b[39m\u001b[39mCould not deserialize key data. The data may be in an \u001b[39m\u001b[39m\"\u001b[39m\n\u001b[1;32m   1209\u001b[0m         \u001b[39m\"\u001b[39m\u001b[39mincorrect format, it may be encrypted with an unsupported \u001b[39m\u001b[39m\"\u001b[39m\n\u001b[1;32m   1210\u001b[0m         \u001b[39m\"\u001b[39m\u001b[39malgorithm, or it may be an unsupported key type (e.g. EC \u001b[39m\u001b[39m\"\u001b[39m\n\u001b[1;32m   1211\u001b[0m         \u001b[39m\"\u001b[39m\u001b[39mcurves with explicit parameters).\u001b[39m\u001b[39m\"\u001b[39m,\n\u001b[1;32m   1212\u001b[0m         errors,\n\u001b[1;32m   1213\u001b[0m     )\n",
      "\u001b[0;31mValueError\u001b[0m: ('Could not deserialize key data. The data may be in an incorrect format, it may be encrypted with an unsupported algorithm, or it may be an unsupported key type (e.g. EC curves with explicit parameters).', [<OpenSSLError(code=503841036, lib=60, reason=524556, reason_text=unsupported)>])"
     ]
    }
   ],
   "source": [
    "\n",
    "from snowflake.sqlalchemy import URL\n",
    "from sqlalchemy import create_engine\n",
    "import os\n",
    "\n",
    "from cryptography.hazmat.backends import default_backend\n",
    "from cryptography.hazmat.primitives.asymmetric import rsa\n",
    "from cryptography.hazmat.primitives.asymmetric import dsa\n",
    "from cryptography.hazmat.primitives import serialization\n",
    "sf_password = 'vC4W3GaE@HPPGV'\n",
    "\n",
    "with open(\"/Users/sjabbireddy/uship/sql-db-migrations/src/helpers/.ssh/rsa_key.p8\", \"rb\") as key:\n",
    "    p_key= serialization.load_pem_private_key(\n",
    "        key.read(),\n",
    "        password=sf_password.encode(),\n",
    "        backend=default_backend()\n",
    "    )\n",
    "\n",
    "pkb = p_key.private_bytes(\n",
    "    encoding=serialization.Encoding.DER,\n",
    "    format=serialization.PrivateFormat.PKCS8,\n",
    "    encryption_algorithm=serialization.NoEncryption())\n",
    "\n",
    "engine = create_engine(URL(\n",
    "    account='kra67494.us-east-1',\n",
    "    user='DATAENGINEERING@uship.com',\n",
    "    ),\n",
    "    connect_args={\n",
    "        'private_key': pkb,\n",
    "        },\n",
    "    )"
   ]
  },
  {
   "cell_type": "code",
   "execution_count": null,
   "metadata": {},
   "outputs": [],
   "source": []
  },
  {
   "cell_type": "code",
   "execution_count": 23,
   "metadata": {},
   "outputs": [
    {
     "ename": "ValueError",
     "evalue": "('Could not deserialize key data. The data may be in an incorrect format, it may be encrypted with an unsupported algorithm, or it may be an unsupported key type (e.g. EC curves with explicit parameters).', [<OpenSSLError(code=503841036, lib=60, reason=524556, reason_text=unsupported)>])",
     "output_type": "error",
     "traceback": [
      "\u001b[0;31m---------------------------------------------------------------------------\u001b[0m",
      "\u001b[0;31mValueError\u001b[0m                                Traceback (most recent call last)",
      "\u001b[1;32m/Users/sjabbireddy/uship/sql-db-migrations/src/data_push/test.ipynb Cell 2\u001b[0m line \u001b[0;36m1\n\u001b[1;32m     <a href='vscode-notebook-cell:/Users/sjabbireddy/uship/sql-db-migrations/src/data_push/test.ipynb#W6sZmlsZQ%3D%3D?line=15'>16</a>\u001b[0m \u001b[39mfrom\u001b[39;00m \u001b[39mcryptography\u001b[39;00m\u001b[39m.\u001b[39;00m\u001b[39mhazmat\u001b[39;00m\u001b[39m.\u001b[39;00m\u001b[39mprimitives\u001b[39;00m \u001b[39mimport\u001b[39;00m serialization\n\u001b[1;32m     <a href='vscode-notebook-cell:/Users/sjabbireddy/uship/sql-db-migrations/src/data_push/test.ipynb#W6sZmlsZQ%3D%3D?line=17'>18</a>\u001b[0m \u001b[39mwith\u001b[39;00m \u001b[39mopen\u001b[39m(\u001b[39m\"\u001b[39m\u001b[39m/Users/sjabbireddy/uship/sql-db-migrations/src/.ssh/rsa_key.p8\u001b[39m\u001b[39m\"\u001b[39m, \u001b[39m\"\u001b[39m\u001b[39mrb\u001b[39m\u001b[39m\"\u001b[39m) \u001b[39mas\u001b[39;00m key:\n\u001b[0;32m---> <a href='vscode-notebook-cell:/Users/sjabbireddy/uship/sql-db-migrations/src/data_push/test.ipynb#W6sZmlsZQ%3D%3D?line=18'>19</a>\u001b[0m     p_key\u001b[39m=\u001b[39m serialization\u001b[39m.\u001b[39;49mload_pem_private_key(\n\u001b[1;32m     <a href='vscode-notebook-cell:/Users/sjabbireddy/uship/sql-db-migrations/src/data_push/test.ipynb#W6sZmlsZQ%3D%3D?line=19'>20</a>\u001b[0m         key\u001b[39m.\u001b[39;49mread(),\n\u001b[1;32m     <a href='vscode-notebook-cell:/Users/sjabbireddy/uship/sql-db-migrations/src/data_push/test.ipynb#W6sZmlsZQ%3D%3D?line=20'>21</a>\u001b[0m         password\u001b[39m=\u001b[39;49m\u001b[39m'\u001b[39;49m\u001b[39mvC4W3GaE@HPPGV\u001b[39;49m\u001b[39m'\u001b[39;49m\u001b[39m.\u001b[39;49mencode(),\n\u001b[1;32m     <a href='vscode-notebook-cell:/Users/sjabbireddy/uship/sql-db-migrations/src/data_push/test.ipynb#W6sZmlsZQ%3D%3D?line=21'>22</a>\u001b[0m         backend\u001b[39m=\u001b[39;49mdefault_backend()\n\u001b[1;32m     <a href='vscode-notebook-cell:/Users/sjabbireddy/uship/sql-db-migrations/src/data_push/test.ipynb#W6sZmlsZQ%3D%3D?line=22'>23</a>\u001b[0m     )\n\u001b[1;32m     <a href='vscode-notebook-cell:/Users/sjabbireddy/uship/sql-db-migrations/src/data_push/test.ipynb#W6sZmlsZQ%3D%3D?line=24'>25</a>\u001b[0m pkb \u001b[39m=\u001b[39m p_key\u001b[39m.\u001b[39mprivate_bytes(\n\u001b[1;32m     <a href='vscode-notebook-cell:/Users/sjabbireddy/uship/sql-db-migrations/src/data_push/test.ipynb#W6sZmlsZQ%3D%3D?line=25'>26</a>\u001b[0m     encoding\u001b[39m=\u001b[39mserialization\u001b[39m.\u001b[39mEncoding\u001b[39m.\u001b[39mDER,\n\u001b[1;32m     <a href='vscode-notebook-cell:/Users/sjabbireddy/uship/sql-db-migrations/src/data_push/test.ipynb#W6sZmlsZQ%3D%3D?line=26'>27</a>\u001b[0m     \u001b[39mformat\u001b[39m\u001b[39m=\u001b[39mserialization\u001b[39m.\u001b[39mPrivateFormat\u001b[39m.\u001b[39mPKCS8,\n\u001b[1;32m     <a href='vscode-notebook-cell:/Users/sjabbireddy/uship/sql-db-migrations/src/data_push/test.ipynb#W6sZmlsZQ%3D%3D?line=27'>28</a>\u001b[0m     encryption_algorithm\u001b[39m=\u001b[39mserialization\u001b[39m.\u001b[39mNoEncryption())\n\u001b[1;32m     <a href='vscode-notebook-cell:/Users/sjabbireddy/uship/sql-db-migrations/src/data_push/test.ipynb#W6sZmlsZQ%3D%3D?line=30'>31</a>\u001b[0m ctx \u001b[39m=\u001b[39m snowflake\u001b[39m.\u001b[39mconnector\u001b[39m.\u001b[39mconnect(\n\u001b[1;32m     <a href='vscode-notebook-cell:/Users/sjabbireddy/uship/sql-db-migrations/src/data_push/test.ipynb#W6sZmlsZQ%3D%3D?line=31'>32</a>\u001b[0m     user\u001b[39m=\u001b[39m\u001b[39m'\u001b[39m\u001b[39mDATAENGINEERING@USHIP.COM\u001b[39m\u001b[39m'\u001b[39m,\n\u001b[1;32m     <a href='vscode-notebook-cell:/Users/sjabbireddy/uship/sql-db-migrations/src/data_push/test.ipynb#W6sZmlsZQ%3D%3D?line=32'>33</a>\u001b[0m     account\u001b[39m=\u001b[39m\u001b[39m'\u001b[39m\u001b[39mkra67494.us-east-1\u001b[39m\u001b[39m'\u001b[39m,\n\u001b[0;32m   (...)\u001b[0m\n\u001b[1;32m     <a href='vscode-notebook-cell:/Users/sjabbireddy/uship/sql-db-migrations/src/data_push/test.ipynb#W6sZmlsZQ%3D%3D?line=35'>36</a>\u001b[0m     database\u001b[39m=\u001b[39m\u001b[39m'\u001b[39m\u001b[39mDATAMART\u001b[39m\u001b[39m'\u001b[39m\n\u001b[1;32m     <a href='vscode-notebook-cell:/Users/sjabbireddy/uship/sql-db-migrations/src/data_push/test.ipynb#W6sZmlsZQ%3D%3D?line=36'>37</a>\u001b[0m     )\n",
      "File \u001b[0;32m~/.pyenv/versions/3.10.0/lib/python3.10/site-packages/cryptography/hazmat/primitives/serialization/base.py:24\u001b[0m, in \u001b[0;36mload_pem_private_key\u001b[0;34m(data, password, backend, unsafe_skip_rsa_key_validation)\u001b[0m\n\u001b[1;32m     15\u001b[0m \u001b[39mdef\u001b[39;00m \u001b[39mload_pem_private_key\u001b[39m(\n\u001b[1;32m     16\u001b[0m     data: \u001b[39mbytes\u001b[39m,\n\u001b[1;32m     17\u001b[0m     password: typing\u001b[39m.\u001b[39mOptional[\u001b[39mbytes\u001b[39m],\n\u001b[0;32m   (...)\u001b[0m\n\u001b[1;32m     20\u001b[0m     unsafe_skip_rsa_key_validation: \u001b[39mbool\u001b[39m \u001b[39m=\u001b[39m \u001b[39mFalse\u001b[39;00m,\n\u001b[1;32m     21\u001b[0m ) \u001b[39m-\u001b[39m\u001b[39m>\u001b[39m PrivateKeyTypes:\n\u001b[1;32m     22\u001b[0m     \u001b[39mfrom\u001b[39;00m \u001b[39mcryptography\u001b[39;00m\u001b[39m.\u001b[39;00m\u001b[39mhazmat\u001b[39;00m\u001b[39m.\u001b[39;00m\u001b[39mbackends\u001b[39;00m\u001b[39m.\u001b[39;00m\u001b[39mopenssl\u001b[39;00m\u001b[39m.\u001b[39;00m\u001b[39mbackend\u001b[39;00m \u001b[39mimport\u001b[39;00m backend \u001b[39mas\u001b[39;00m ossl\n\u001b[0;32m---> 24\u001b[0m     \u001b[39mreturn\u001b[39;00m ossl\u001b[39m.\u001b[39;49mload_pem_private_key(\n\u001b[1;32m     25\u001b[0m         data, password, unsafe_skip_rsa_key_validation\n\u001b[1;32m     26\u001b[0m     )\n",
      "File \u001b[0;32m~/.pyenv/versions/3.10.0/lib/python3.10/site-packages/cryptography/hazmat/backends/openssl/backend.py:957\u001b[0m, in \u001b[0;36mBackend.load_pem_private_key\u001b[0;34m(self, data, password, unsafe_skip_rsa_key_validation)\u001b[0m\n\u001b[1;32m    951\u001b[0m \u001b[39mdef\u001b[39;00m \u001b[39mload_pem_private_key\u001b[39m(\n\u001b[1;32m    952\u001b[0m     \u001b[39mself\u001b[39m,\n\u001b[1;32m    953\u001b[0m     data: \u001b[39mbytes\u001b[39m,\n\u001b[1;32m    954\u001b[0m     password: typing\u001b[39m.\u001b[39mOptional[\u001b[39mbytes\u001b[39m],\n\u001b[1;32m    955\u001b[0m     unsafe_skip_rsa_key_validation: \u001b[39mbool\u001b[39m,\n\u001b[1;32m    956\u001b[0m ) \u001b[39m-\u001b[39m\u001b[39m>\u001b[39m PrivateKeyTypes:\n\u001b[0;32m--> 957\u001b[0m     \u001b[39mreturn\u001b[39;00m \u001b[39mself\u001b[39;49m\u001b[39m.\u001b[39;49m_load_key(\n\u001b[1;32m    958\u001b[0m         \u001b[39mself\u001b[39;49m\u001b[39m.\u001b[39;49m_lib\u001b[39m.\u001b[39;49mPEM_read_bio_PrivateKey,\n\u001b[1;32m    959\u001b[0m         data,\n\u001b[1;32m    960\u001b[0m         password,\n\u001b[1;32m    961\u001b[0m         unsafe_skip_rsa_key_validation,\n\u001b[1;32m    962\u001b[0m     )\n",
      "File \u001b[0;32m~/.pyenv/versions/3.10.0/lib/python3.10/site-packages/cryptography/hazmat/backends/openssl/backend.py:1152\u001b[0m, in \u001b[0;36mBackend._load_key\u001b[0;34m(self, openssl_read_func, data, password, unsafe_skip_rsa_key_validation)\u001b[0m\n\u001b[1;32m   1147\u001b[0m             \u001b[39mraise\u001b[39;00m \u001b[39mValueError\u001b[39;00m(\n\u001b[1;32m   1148\u001b[0m                 \u001b[39m\"\u001b[39m\u001b[39mPasswords longer than \u001b[39m\u001b[39m{}\u001b[39;00m\u001b[39m bytes are not supported \u001b[39m\u001b[39m\"\u001b[39m\n\u001b[1;32m   1149\u001b[0m                 \u001b[39m\"\u001b[39m\u001b[39mby this backend.\u001b[39m\u001b[39m\"\u001b[39m\u001b[39m.\u001b[39mformat(userdata\u001b[39m.\u001b[39mmaxsize \u001b[39m-\u001b[39m \u001b[39m1\u001b[39m)\n\u001b[1;32m   1150\u001b[0m             )\n\u001b[1;32m   1151\u001b[0m     \u001b[39melse\u001b[39;00m:\n\u001b[0;32m-> 1152\u001b[0m         \u001b[39mself\u001b[39;49m\u001b[39m.\u001b[39;49m_handle_key_loading_error()\n\u001b[1;32m   1154\u001b[0m evp_pkey \u001b[39m=\u001b[39m \u001b[39mself\u001b[39m\u001b[39m.\u001b[39m_ffi\u001b[39m.\u001b[39mgc(evp_pkey, \u001b[39mself\u001b[39m\u001b[39m.\u001b[39m_lib\u001b[39m.\u001b[39mEVP_PKEY_free)\n\u001b[1;32m   1156\u001b[0m \u001b[39mif\u001b[39;00m password \u001b[39mis\u001b[39;00m \u001b[39mnot\u001b[39;00m \u001b[39mNone\u001b[39;00m \u001b[39mand\u001b[39;00m userdata\u001b[39m.\u001b[39mcalled \u001b[39m==\u001b[39m \u001b[39m0\u001b[39m:\n",
      "File \u001b[0;32m~/.pyenv/versions/3.10.0/lib/python3.10/site-packages/cryptography/hazmat/backends/openssl/backend.py:1207\u001b[0m, in \u001b[0;36mBackend._handle_key_loading_error\u001b[0;34m(self)\u001b[0m\n\u001b[1;32m   1204\u001b[0m     \u001b[39mraise\u001b[39;00m \u001b[39mValueError\u001b[39;00m(\u001b[39m\"\u001b[39m\u001b[39mUnsupported public key algorithm.\u001b[39m\u001b[39m\"\u001b[39m)\n\u001b[1;32m   1206\u001b[0m \u001b[39melse\u001b[39;00m:\n\u001b[0;32m-> 1207\u001b[0m     \u001b[39mraise\u001b[39;00m \u001b[39mValueError\u001b[39;00m(\n\u001b[1;32m   1208\u001b[0m         \u001b[39m\"\u001b[39m\u001b[39mCould not deserialize key data. The data may be in an \u001b[39m\u001b[39m\"\u001b[39m\n\u001b[1;32m   1209\u001b[0m         \u001b[39m\"\u001b[39m\u001b[39mincorrect format, it may be encrypted with an unsupported \u001b[39m\u001b[39m\"\u001b[39m\n\u001b[1;32m   1210\u001b[0m         \u001b[39m\"\u001b[39m\u001b[39malgorithm, or it may be an unsupported key type (e.g. EC \u001b[39m\u001b[39m\"\u001b[39m\n\u001b[1;32m   1211\u001b[0m         \u001b[39m\"\u001b[39m\u001b[39mcurves with explicit parameters).\u001b[39m\u001b[39m\"\u001b[39m,\n\u001b[1;32m   1212\u001b[0m         errors,\n\u001b[1;32m   1213\u001b[0m     )\n",
      "\u001b[0;31mValueError\u001b[0m: ('Could not deserialize key data. The data may be in an incorrect format, it may be encrypted with an unsupported algorithm, or it may be an unsupported key type (e.g. EC curves with explicit parameters).', [<OpenSSLError(code=503841036, lib=60, reason=524556, reason_text=unsupported)>])"
     ]
    }
   ],
   "source": [
    "import os\n",
    "import logging\n",
    "import snowflake.connector\n",
    "\n",
    "for logger_name in [\"snowflake.connector\", \"botocore\", \"boto3\"]:\n",
    "    logger = logging.getLogger(logger_name)\n",
    "    logger.setLevel(logging.DEBUG)\n",
    "    ch = logging.FileHandler(\"/tmp/python_connector.log\")\n",
    "    ch.setLevel(logging.DEBUG)\n",
    "    ch.setFormatter(\n",
    "        logging.Formatter(\n",
    "            \"%(asctime)s - %(threadName)s %(filename)s:%(lineno)d - %(funcName)s() - %(levelname)s - %(message)s\"\n",
    "        )\n",
    "    )\n",
    "    logger.addHandler(ch)\n",
    "\n",
    "from cryptography.hazmat.backends import default_backend\n",
    "from cryptography.hazmat.primitives.asymmetric import rsa\n",
    "from cryptography.hazmat.primitives.asymmetric import dsa\n",
    "from cryptography.hazmat.primitives import serialization\n",
    "\n",
    "with open(\n",
    "    \"/Users/sjabbireddy/uship/sql-db-migrations/src/.ssh/rsa_key.p8\", \"rb\"\n",
    ") as key:\n",
    "    p_key = serialization.load_pem_private_key(\n",
    "        key.read(), password=\"vC4W3GaE@HPPGV\".encode(), backend=default_backend()\n",
    "    )\n",
    "\n",
    "pkb = p_key.private_bytes(\n",
    "    encoding=serialization.Encoding.DER,\n",
    "    format=serialization.PrivateFormat.PKCS8,\n",
    "    encryption_algorithm=serialization.NoEncryption(),\n",
    ")\n",
    "\n",
    "\n",
    "ctx = snowflake.connector.connect(\n",
    "    user=\"DATAENGINEERING@USHIP.COM\",\n",
    "    account=\"kra67494.us-east-1\",\n",
    "    private_key=pkb,\n",
    "    warehouse=\"TRANSFORMATION_WH\",\n",
    "    database=\"DATAMART\",\n",
    ")\n",
    "\n",
    "cs = ctx.cursor()\n",
    "try:\n",
    "    cs.execute(\"SELECT current_version()\")\n",
    "    one_row = cs.fetchone()\n",
    "    print(one_row[0])\n",
    "finally:\n",
    "    cs.close()\n",
    "ctx.close()"
   ]
  },
  {
   "cell_type": "code",
   "execution_count": 22,
   "metadata": {},
   "outputs": [
    {
     "ename": "ValueError",
     "evalue": "('Could not deserialize key data. The data may be in an incorrect format, it may be encrypted with an unsupported algorithm, or it may be an unsupported key type (e.g. EC curves with explicit parameters).', [<OpenSSLError(code=503841036, lib=60, reason=524556, reason_text=unsupported)>])",
     "output_type": "error",
     "traceback": [
      "\u001b[0;31m---------------------------------------------------------------------------\u001b[0m",
      "\u001b[0;31mValueError\u001b[0m                                Traceback (most recent call last)",
      "\u001b[1;32m/Users/sjabbireddy/uship/sql-db-migrations/src/data_push/test.ipynb Cell 2\u001b[0m line \u001b[0;36m7\n\u001b[1;32m      <a href='vscode-notebook-cell:/Users/sjabbireddy/uship/sql-db-migrations/src/data_push/test.ipynb#W5sZmlsZQ%3D%3D?line=4'>5</a>\u001b[0m \u001b[39mfrom\u001b[39;00m \u001b[39mcryptography\u001b[39;00m\u001b[39m.\u001b[39;00m\u001b[39mhazmat\u001b[39;00m\u001b[39m.\u001b[39;00m\u001b[39mprimitives\u001b[39;00m \u001b[39mimport\u001b[39;00m serialization\n\u001b[1;32m      <a href='vscode-notebook-cell:/Users/sjabbireddy/uship/sql-db-migrations/src/data_push/test.ipynb#W5sZmlsZQ%3D%3D?line=5'>6</a>\u001b[0m \u001b[39mwith\u001b[39;00m \u001b[39mopen\u001b[39m(\u001b[39m\"\u001b[39m\u001b[39m/Users/sjabbireddy/uship/sql-db-migrations/src/.ssh/rsa_key.p8\u001b[39m\u001b[39m\"\u001b[39m, \u001b[39m\"\u001b[39m\u001b[39mrb\u001b[39m\u001b[39m\"\u001b[39m) \u001b[39mas\u001b[39;00m key:\n\u001b[0;32m----> <a href='vscode-notebook-cell:/Users/sjabbireddy/uship/sql-db-migrations/src/data_push/test.ipynb#W5sZmlsZQ%3D%3D?line=6'>7</a>\u001b[0m     p_key\u001b[39m=\u001b[39m serialization\u001b[39m.\u001b[39;49mload_pem_private_key(\n\u001b[1;32m      <a href='vscode-notebook-cell:/Users/sjabbireddy/uship/sql-db-migrations/src/data_push/test.ipynb#W5sZmlsZQ%3D%3D?line=7'>8</a>\u001b[0m         key\u001b[39m.\u001b[39;49mread(),\n\u001b[1;32m      <a href='vscode-notebook-cell:/Users/sjabbireddy/uship/sql-db-migrations/src/data_push/test.ipynb#W5sZmlsZQ%3D%3D?line=8'>9</a>\u001b[0m         password\u001b[39m=\u001b[39;49m\u001b[39m'\u001b[39;49m\u001b[39mvC4W3GaE@HPPGV\u001b[39;49m\u001b[39m'\u001b[39;49m\u001b[39m.\u001b[39;49mencode(),\n\u001b[1;32m     <a href='vscode-notebook-cell:/Users/sjabbireddy/uship/sql-db-migrations/src/data_push/test.ipynb#W5sZmlsZQ%3D%3D?line=9'>10</a>\u001b[0m         backend\u001b[39m=\u001b[39;49mdefault_backend()\n\u001b[1;32m     <a href='vscode-notebook-cell:/Users/sjabbireddy/uship/sql-db-migrations/src/data_push/test.ipynb#W5sZmlsZQ%3D%3D?line=10'>11</a>\u001b[0m     )\n\u001b[1;32m     <a href='vscode-notebook-cell:/Users/sjabbireddy/uship/sql-db-migrations/src/data_push/test.ipynb#W5sZmlsZQ%3D%3D?line=12'>13</a>\u001b[0m pkb \u001b[39m=\u001b[39m p_key\u001b[39m.\u001b[39mprivate_bytes(\n\u001b[1;32m     <a href='vscode-notebook-cell:/Users/sjabbireddy/uship/sql-db-migrations/src/data_push/test.ipynb#W5sZmlsZQ%3D%3D?line=13'>14</a>\u001b[0m     encoding\u001b[39m=\u001b[39mserialization\u001b[39m.\u001b[39mEncoding\u001b[39m.\u001b[39mDER,\n\u001b[1;32m     <a href='vscode-notebook-cell:/Users/sjabbireddy/uship/sql-db-migrations/src/data_push/test.ipynb#W5sZmlsZQ%3D%3D?line=14'>15</a>\u001b[0m     \u001b[39mformat\u001b[39m\u001b[39m=\u001b[39mserialization\u001b[39m.\u001b[39mPrivateFormat\u001b[39m.\u001b[39mPKCS8,\n\u001b[1;32m     <a href='vscode-notebook-cell:/Users/sjabbireddy/uship/sql-db-migrations/src/data_push/test.ipynb#W5sZmlsZQ%3D%3D?line=15'>16</a>\u001b[0m     encryption_algorithm\u001b[39m=\u001b[39mserialization\u001b[39m.\u001b[39mNoEncryption())\n\u001b[1;32m     <a href='vscode-notebook-cell:/Users/sjabbireddy/uship/sql-db-migrations/src/data_push/test.ipynb#W5sZmlsZQ%3D%3D?line=17'>18</a>\u001b[0m ctx \u001b[39m=\u001b[39m snowflake\u001b[39m.\u001b[39mconnector\u001b[39m.\u001b[39mconnect(\n\u001b[1;32m     <a href='vscode-notebook-cell:/Users/sjabbireddy/uship/sql-db-migrations/src/data_push/test.ipynb#W5sZmlsZQ%3D%3D?line=18'>19</a>\u001b[0m     user\u001b[39m=\u001b[39m\u001b[39m'\u001b[39m\u001b[39mDATAENGINEERING@USHIP.COM\u001b[39m\u001b[39m'\u001b[39m,\n\u001b[1;32m     <a href='vscode-notebook-cell:/Users/sjabbireddy/uship/sql-db-migrations/src/data_push/test.ipynb#W5sZmlsZQ%3D%3D?line=19'>20</a>\u001b[0m     account\u001b[39m=\u001b[39m\u001b[39m'\u001b[39m\u001b[39mkra67494.us-east-1\u001b[39m\u001b[39m'\u001b[39m,\n\u001b[0;32m   (...)\u001b[0m\n\u001b[1;32m     <a href='vscode-notebook-cell:/Users/sjabbireddy/uship/sql-db-migrations/src/data_push/test.ipynb#W5sZmlsZQ%3D%3D?line=22'>23</a>\u001b[0m     database\u001b[39m=\u001b[39m\u001b[39m'\u001b[39m\u001b[39mDATAMART\u001b[39m\u001b[39m'\u001b[39m\n\u001b[1;32m     <a href='vscode-notebook-cell:/Users/sjabbireddy/uship/sql-db-migrations/src/data_push/test.ipynb#W5sZmlsZQ%3D%3D?line=23'>24</a>\u001b[0m     )\n",
      "File \u001b[0;32m~/.pyenv/versions/3.10.0/lib/python3.10/site-packages/cryptography/hazmat/primitives/serialization/base.py:24\u001b[0m, in \u001b[0;36mload_pem_private_key\u001b[0;34m(data, password, backend, unsafe_skip_rsa_key_validation)\u001b[0m\n\u001b[1;32m     15\u001b[0m \u001b[39mdef\u001b[39;00m \u001b[39mload_pem_private_key\u001b[39m(\n\u001b[1;32m     16\u001b[0m     data: \u001b[39mbytes\u001b[39m,\n\u001b[1;32m     17\u001b[0m     password: typing\u001b[39m.\u001b[39mOptional[\u001b[39mbytes\u001b[39m],\n\u001b[0;32m   (...)\u001b[0m\n\u001b[1;32m     20\u001b[0m     unsafe_skip_rsa_key_validation: \u001b[39mbool\u001b[39m \u001b[39m=\u001b[39m \u001b[39mFalse\u001b[39;00m,\n\u001b[1;32m     21\u001b[0m ) \u001b[39m-\u001b[39m\u001b[39m>\u001b[39m PrivateKeyTypes:\n\u001b[1;32m     22\u001b[0m     \u001b[39mfrom\u001b[39;00m \u001b[39mcryptography\u001b[39;00m\u001b[39m.\u001b[39;00m\u001b[39mhazmat\u001b[39;00m\u001b[39m.\u001b[39;00m\u001b[39mbackends\u001b[39;00m\u001b[39m.\u001b[39;00m\u001b[39mopenssl\u001b[39;00m\u001b[39m.\u001b[39;00m\u001b[39mbackend\u001b[39;00m \u001b[39mimport\u001b[39;00m backend \u001b[39mas\u001b[39;00m ossl\n\u001b[0;32m---> 24\u001b[0m     \u001b[39mreturn\u001b[39;00m ossl\u001b[39m.\u001b[39;49mload_pem_private_key(\n\u001b[1;32m     25\u001b[0m         data, password, unsafe_skip_rsa_key_validation\n\u001b[1;32m     26\u001b[0m     )\n",
      "File \u001b[0;32m~/.pyenv/versions/3.10.0/lib/python3.10/site-packages/cryptography/hazmat/backends/openssl/backend.py:957\u001b[0m, in \u001b[0;36mBackend.load_pem_private_key\u001b[0;34m(self, data, password, unsafe_skip_rsa_key_validation)\u001b[0m\n\u001b[1;32m    951\u001b[0m \u001b[39mdef\u001b[39;00m \u001b[39mload_pem_private_key\u001b[39m(\n\u001b[1;32m    952\u001b[0m     \u001b[39mself\u001b[39m,\n\u001b[1;32m    953\u001b[0m     data: \u001b[39mbytes\u001b[39m,\n\u001b[1;32m    954\u001b[0m     password: typing\u001b[39m.\u001b[39mOptional[\u001b[39mbytes\u001b[39m],\n\u001b[1;32m    955\u001b[0m     unsafe_skip_rsa_key_validation: \u001b[39mbool\u001b[39m,\n\u001b[1;32m    956\u001b[0m ) \u001b[39m-\u001b[39m\u001b[39m>\u001b[39m PrivateKeyTypes:\n\u001b[0;32m--> 957\u001b[0m     \u001b[39mreturn\u001b[39;00m \u001b[39mself\u001b[39;49m\u001b[39m.\u001b[39;49m_load_key(\n\u001b[1;32m    958\u001b[0m         \u001b[39mself\u001b[39;49m\u001b[39m.\u001b[39;49m_lib\u001b[39m.\u001b[39;49mPEM_read_bio_PrivateKey,\n\u001b[1;32m    959\u001b[0m         data,\n\u001b[1;32m    960\u001b[0m         password,\n\u001b[1;32m    961\u001b[0m         unsafe_skip_rsa_key_validation,\n\u001b[1;32m    962\u001b[0m     )\n",
      "File \u001b[0;32m~/.pyenv/versions/3.10.0/lib/python3.10/site-packages/cryptography/hazmat/backends/openssl/backend.py:1152\u001b[0m, in \u001b[0;36mBackend._load_key\u001b[0;34m(self, openssl_read_func, data, password, unsafe_skip_rsa_key_validation)\u001b[0m\n\u001b[1;32m   1147\u001b[0m             \u001b[39mraise\u001b[39;00m \u001b[39mValueError\u001b[39;00m(\n\u001b[1;32m   1148\u001b[0m                 \u001b[39m\"\u001b[39m\u001b[39mPasswords longer than \u001b[39m\u001b[39m{}\u001b[39;00m\u001b[39m bytes are not supported \u001b[39m\u001b[39m\"\u001b[39m\n\u001b[1;32m   1149\u001b[0m                 \u001b[39m\"\u001b[39m\u001b[39mby this backend.\u001b[39m\u001b[39m\"\u001b[39m\u001b[39m.\u001b[39mformat(userdata\u001b[39m.\u001b[39mmaxsize \u001b[39m-\u001b[39m \u001b[39m1\u001b[39m)\n\u001b[1;32m   1150\u001b[0m             )\n\u001b[1;32m   1151\u001b[0m     \u001b[39melse\u001b[39;00m:\n\u001b[0;32m-> 1152\u001b[0m         \u001b[39mself\u001b[39;49m\u001b[39m.\u001b[39;49m_handle_key_loading_error()\n\u001b[1;32m   1154\u001b[0m evp_pkey \u001b[39m=\u001b[39m \u001b[39mself\u001b[39m\u001b[39m.\u001b[39m_ffi\u001b[39m.\u001b[39mgc(evp_pkey, \u001b[39mself\u001b[39m\u001b[39m.\u001b[39m_lib\u001b[39m.\u001b[39mEVP_PKEY_free)\n\u001b[1;32m   1156\u001b[0m \u001b[39mif\u001b[39;00m password \u001b[39mis\u001b[39;00m \u001b[39mnot\u001b[39;00m \u001b[39mNone\u001b[39;00m \u001b[39mand\u001b[39;00m userdata\u001b[39m.\u001b[39mcalled \u001b[39m==\u001b[39m \u001b[39m0\u001b[39m:\n",
      "File \u001b[0;32m~/.pyenv/versions/3.10.0/lib/python3.10/site-packages/cryptography/hazmat/backends/openssl/backend.py:1207\u001b[0m, in \u001b[0;36mBackend._handle_key_loading_error\u001b[0;34m(self)\u001b[0m\n\u001b[1;32m   1204\u001b[0m     \u001b[39mraise\u001b[39;00m \u001b[39mValueError\u001b[39;00m(\u001b[39m\"\u001b[39m\u001b[39mUnsupported public key algorithm.\u001b[39m\u001b[39m\"\u001b[39m)\n\u001b[1;32m   1206\u001b[0m \u001b[39melse\u001b[39;00m:\n\u001b[0;32m-> 1207\u001b[0m     \u001b[39mraise\u001b[39;00m \u001b[39mValueError\u001b[39;00m(\n\u001b[1;32m   1208\u001b[0m         \u001b[39m\"\u001b[39m\u001b[39mCould not deserialize key data. The data may be in an \u001b[39m\u001b[39m\"\u001b[39m\n\u001b[1;32m   1209\u001b[0m         \u001b[39m\"\u001b[39m\u001b[39mincorrect format, it may be encrypted with an unsupported \u001b[39m\u001b[39m\"\u001b[39m\n\u001b[1;32m   1210\u001b[0m         \u001b[39m\"\u001b[39m\u001b[39malgorithm, or it may be an unsupported key type (e.g. EC \u001b[39m\u001b[39m\"\u001b[39m\n\u001b[1;32m   1211\u001b[0m         \u001b[39m\"\u001b[39m\u001b[39mcurves with explicit parameters).\u001b[39m\u001b[39m\"\u001b[39m,\n\u001b[1;32m   1212\u001b[0m         errors,\n\u001b[1;32m   1213\u001b[0m     )\n",
      "\u001b[0;31mValueError\u001b[0m: ('Could not deserialize key data. The data may be in an incorrect format, it may be encrypted with an unsupported algorithm, or it may be an unsupported key type (e.g. EC curves with explicit parameters).', [<OpenSSLError(code=503841036, lib=60, reason=524556, reason_text=unsupported)>])"
     ]
    }
   ],
   "source": [
    "import snowflake.connector\n",
    "from cryptography.hazmat.backends import default_backend\n",
    "from cryptography.hazmat.primitives.asymmetric import rsa\n",
    "from cryptography.hazmat.primitives.asymmetric import dsa\n",
    "from cryptography.hazmat.primitives import serialization\n",
    "\n",
    "with open(\n",
    "    \"/Users/sjabbireddy/uship/sql-db-migrations/src/.ssh/rsa_key.p8\", \"rb\"\n",
    ") as key:\n",
    "    p_key = serialization.load_pem_private_key(\n",
    "        key.read(), password=\"vC4W3GaE@HPPGV\".encode(), backend=default_backend()\n",
    "    )\n",
    "\n",
    "pkb = p_key.private_bytes(\n",
    "    encoding=serialization.Encoding.DER,\n",
    "    format=serialization.PrivateFormat.PKCS8,\n",
    "    encryption_algorithm=serialization.NoEncryption(),\n",
    ")\n",
    "\n",
    "ctx = snowflake.connector.connect(\n",
    "    user=\"DATAENGINEERING@USHIP.COM\",\n",
    "    account=\"kra67494.us-east-1\",\n",
    "    private_key=pkb,\n",
    "    warehouse=\"TRANSFORMATION_WH\",\n",
    "    database=\"DATAMART\",\n",
    ")\n",
    "\n",
    "cs = ctx.cursor()"
   ]
  },
  {
   "cell_type": "code",
   "execution_count": 20,
   "metadata": {},
   "outputs": [
    {
     "ename": "ValueError",
     "evalue": "('Could not deserialize key data. The data may be in an incorrect format, it may be encrypted with an unsupported algorithm, or it may be an unsupported key type (e.g. EC curves with explicit parameters).', [<OpenSSLError(code=503841036, lib=60, reason=524556, reason_text=unsupported)>])",
     "output_type": "error",
     "traceback": [
      "\u001b[0;31m---------------------------------------------------------------------------\u001b[0m",
      "\u001b[0;31mValueError\u001b[0m                                Traceback (most recent call last)",
      "\u001b[1;32m/Users/sjabbireddy/uship/sql-db-migrations/src/data_push/test.ipynb Cell 4\u001b[0m line \u001b[0;36m1\n\u001b[0;32m----> <a href='vscode-notebook-cell:/Users/sjabbireddy/uship/sql-db-migrations/src/data_push/test.ipynb#W3sZmlsZQ%3D%3D?line=0'>1</a>\u001b[0m conn_snowflake \u001b[39m=\u001b[39m snowflake_connection(\n\u001b[1;32m      <a href='vscode-notebook-cell:/Users/sjabbireddy/uship/sql-db-migrations/src/data_push/test.ipynb#W3sZmlsZQ%3D%3D?line=1'>2</a>\u001b[0m             snowflake_username,\n\u001b[1;32m      <a href='vscode-notebook-cell:/Users/sjabbireddy/uship/sql-db-migrations/src/data_push/test.ipynb#W3sZmlsZQ%3D%3D?line=2'>3</a>\u001b[0m             snowflake_keypass,\n\u001b[1;32m      <a href='vscode-notebook-cell:/Users/sjabbireddy/uship/sql-db-migrations/src/data_push/test.ipynb#W3sZmlsZQ%3D%3D?line=3'>4</a>\u001b[0m             snowflake_password,\n\u001b[1;32m      <a href='vscode-notebook-cell:/Users/sjabbireddy/uship/sql-db-migrations/src/data_push/test.ipynb#W3sZmlsZQ%3D%3D?line=4'>5</a>\u001b[0m             snowflake_account,\n\u001b[1;32m      <a href='vscode-notebook-cell:/Users/sjabbireddy/uship/sql-db-migrations/src/data_push/test.ipynb#W3sZmlsZQ%3D%3D?line=5'>6</a>\u001b[0m             snowflake_warehouse,\n\u001b[1;32m      <a href='vscode-notebook-cell:/Users/sjabbireddy/uship/sql-db-migrations/src/data_push/test.ipynb#W3sZmlsZQ%3D%3D?line=6'>7</a>\u001b[0m             snowflake_database,\n\u001b[1;32m      <a href='vscode-notebook-cell:/Users/sjabbireddy/uship/sql-db-migrations/src/data_push/test.ipynb#W3sZmlsZQ%3D%3D?line=7'>8</a>\u001b[0m             snowflake_role,\n\u001b[1;32m      <a href='vscode-notebook-cell:/Users/sjabbireddy/uship/sql-db-migrations/src/data_push/test.ipynb#W3sZmlsZQ%3D%3D?line=8'>9</a>\u001b[0m         )\n\u001b[1;32m     <a href='vscode-notebook-cell:/Users/sjabbireddy/uship/sql-db-migrations/src/data_push/test.ipynb#W3sZmlsZQ%3D%3D?line=10'>11</a>\u001b[0m cursor_snowflake \u001b[39m=\u001b[39m conn_snowflake\u001b[39m.\u001b[39mcursor()\n",
      "\u001b[1;32m/Users/sjabbireddy/uship/sql-db-migrations/src/data_push/test.ipynb Cell 4\u001b[0m line \u001b[0;36m2\n\u001b[1;32m     <a href='vscode-notebook-cell:/Users/sjabbireddy/uship/sql-db-migrations/src/data_push/test.ipynb#W3sZmlsZQ%3D%3D?line=24'>25</a>\u001b[0m logger\u001b[39m.\u001b[39mdebug(\u001b[39m\"\u001b[39m\u001b[39mGetting the credentials...\u001b[39m\u001b[39m\"\u001b[39m)\n\u001b[1;32m     <a href='vscode-notebook-cell:/Users/sjabbireddy/uship/sql-db-migrations/src/data_push/test.ipynb#W3sZmlsZQ%3D%3D?line=26'>27</a>\u001b[0m pem_data \u001b[39m=\u001b[39m \u001b[39m'\u001b[39m\u001b[39m/Users/sjabbireddy/uship/sql-db-migrations/src/.ssh/rsa_key.p8\u001b[39m\u001b[39m'\u001b[39m\n\u001b[0;32m---> <a href='vscode-notebook-cell:/Users/sjabbireddy/uship/sql-db-migrations/src/data_push/test.ipynb#W3sZmlsZQ%3D%3D?line=27'>28</a>\u001b[0m p_key \u001b[39m=\u001b[39m serialization\u001b[39m.\u001b[39;49mload_pem_private_key(\n\u001b[1;32m     <a href='vscode-notebook-cell:/Users/sjabbireddy/uship/sql-db-migrations/src/data_push/test.ipynb#W3sZmlsZQ%3D%3D?line=28'>29</a>\u001b[0m     pem_data\u001b[39m.\u001b[39;49mencode(),\n\u001b[1;32m     <a href='vscode-notebook-cell:/Users/sjabbireddy/uship/sql-db-migrations/src/data_push/test.ipynb#W3sZmlsZQ%3D%3D?line=29'>30</a>\u001b[0m     password\u001b[39m=\u001b[39;49msnowflake_password\u001b[39m.\u001b[39;49mencode(),\n\u001b[1;32m     <a href='vscode-notebook-cell:/Users/sjabbireddy/uship/sql-db-migrations/src/data_push/test.ipynb#W3sZmlsZQ%3D%3D?line=30'>31</a>\u001b[0m     backend\u001b[39m=\u001b[39;49mdefault_backend(),\n\u001b[1;32m     <a href='vscode-notebook-cell:/Users/sjabbireddy/uship/sql-db-migrations/src/data_push/test.ipynb#W3sZmlsZQ%3D%3D?line=31'>32</a>\u001b[0m )\n\u001b[1;32m     <a href='vscode-notebook-cell:/Users/sjabbireddy/uship/sql-db-migrations/src/data_push/test.ipynb#W3sZmlsZQ%3D%3D?line=32'>33</a>\u001b[0m pkb \u001b[39m=\u001b[39m p_key\u001b[39m.\u001b[39mprivate_bytes(\n\u001b[1;32m     <a href='vscode-notebook-cell:/Users/sjabbireddy/uship/sql-db-migrations/src/data_push/test.ipynb#W3sZmlsZQ%3D%3D?line=33'>34</a>\u001b[0m     encoding\u001b[39m=\u001b[39mserialization\u001b[39m.\u001b[39mEncoding\u001b[39m.\u001b[39mDER,\n\u001b[1;32m     <a href='vscode-notebook-cell:/Users/sjabbireddy/uship/sql-db-migrations/src/data_push/test.ipynb#W3sZmlsZQ%3D%3D?line=34'>35</a>\u001b[0m     \u001b[39mformat\u001b[39m\u001b[39m=\u001b[39mserialization\u001b[39m.\u001b[39mPrivateFormat\u001b[39m.\u001b[39mPKCS8,\n\u001b[1;32m     <a href='vscode-notebook-cell:/Users/sjabbireddy/uship/sql-db-migrations/src/data_push/test.ipynb#W3sZmlsZQ%3D%3D?line=35'>36</a>\u001b[0m     encryption_algorithm\u001b[39m=\u001b[39mserialization\u001b[39m.\u001b[39mNoEncryption(),\n\u001b[1;32m     <a href='vscode-notebook-cell:/Users/sjabbireddy/uship/sql-db-migrations/src/data_push/test.ipynb#W3sZmlsZQ%3D%3D?line=36'>37</a>\u001b[0m )\n\u001b[1;32m     <a href='vscode-notebook-cell:/Users/sjabbireddy/uship/sql-db-migrations/src/data_push/test.ipynb#W3sZmlsZQ%3D%3D?line=38'>39</a>\u001b[0m \u001b[39mtry\u001b[39;00m:\n",
      "File \u001b[0;32m~/.pyenv/versions/3.10.0/lib/python3.10/site-packages/cryptography/hazmat/primitives/serialization/base.py:24\u001b[0m, in \u001b[0;36mload_pem_private_key\u001b[0;34m(data, password, backend, unsafe_skip_rsa_key_validation)\u001b[0m\n\u001b[1;32m     15\u001b[0m \u001b[39mdef\u001b[39;00m \u001b[39mload_pem_private_key\u001b[39m(\n\u001b[1;32m     16\u001b[0m     data: \u001b[39mbytes\u001b[39m,\n\u001b[1;32m     17\u001b[0m     password: typing\u001b[39m.\u001b[39mOptional[\u001b[39mbytes\u001b[39m],\n\u001b[0;32m   (...)\u001b[0m\n\u001b[1;32m     20\u001b[0m     unsafe_skip_rsa_key_validation: \u001b[39mbool\u001b[39m \u001b[39m=\u001b[39m \u001b[39mFalse\u001b[39;00m,\n\u001b[1;32m     21\u001b[0m ) \u001b[39m-\u001b[39m\u001b[39m>\u001b[39m PrivateKeyTypes:\n\u001b[1;32m     22\u001b[0m     \u001b[39mfrom\u001b[39;00m \u001b[39mcryptography\u001b[39;00m\u001b[39m.\u001b[39;00m\u001b[39mhazmat\u001b[39;00m\u001b[39m.\u001b[39;00m\u001b[39mbackends\u001b[39;00m\u001b[39m.\u001b[39;00m\u001b[39mopenssl\u001b[39;00m\u001b[39m.\u001b[39;00m\u001b[39mbackend\u001b[39;00m \u001b[39mimport\u001b[39;00m backend \u001b[39mas\u001b[39;00m ossl\n\u001b[0;32m---> 24\u001b[0m     \u001b[39mreturn\u001b[39;00m ossl\u001b[39m.\u001b[39;49mload_pem_private_key(\n\u001b[1;32m     25\u001b[0m         data, password, unsafe_skip_rsa_key_validation\n\u001b[1;32m     26\u001b[0m     )\n",
      "File \u001b[0;32m~/.pyenv/versions/3.10.0/lib/python3.10/site-packages/cryptography/hazmat/backends/openssl/backend.py:957\u001b[0m, in \u001b[0;36mBackend.load_pem_private_key\u001b[0;34m(self, data, password, unsafe_skip_rsa_key_validation)\u001b[0m\n\u001b[1;32m    951\u001b[0m \u001b[39mdef\u001b[39;00m \u001b[39mload_pem_private_key\u001b[39m(\n\u001b[1;32m    952\u001b[0m     \u001b[39mself\u001b[39m,\n\u001b[1;32m    953\u001b[0m     data: \u001b[39mbytes\u001b[39m,\n\u001b[1;32m    954\u001b[0m     password: typing\u001b[39m.\u001b[39mOptional[\u001b[39mbytes\u001b[39m],\n\u001b[1;32m    955\u001b[0m     unsafe_skip_rsa_key_validation: \u001b[39mbool\u001b[39m,\n\u001b[1;32m    956\u001b[0m ) \u001b[39m-\u001b[39m\u001b[39m>\u001b[39m PrivateKeyTypes:\n\u001b[0;32m--> 957\u001b[0m     \u001b[39mreturn\u001b[39;00m \u001b[39mself\u001b[39;49m\u001b[39m.\u001b[39;49m_load_key(\n\u001b[1;32m    958\u001b[0m         \u001b[39mself\u001b[39;49m\u001b[39m.\u001b[39;49m_lib\u001b[39m.\u001b[39;49mPEM_read_bio_PrivateKey,\n\u001b[1;32m    959\u001b[0m         data,\n\u001b[1;32m    960\u001b[0m         password,\n\u001b[1;32m    961\u001b[0m         unsafe_skip_rsa_key_validation,\n\u001b[1;32m    962\u001b[0m     )\n",
      "File \u001b[0;32m~/.pyenv/versions/3.10.0/lib/python3.10/site-packages/cryptography/hazmat/backends/openssl/backend.py:1152\u001b[0m, in \u001b[0;36mBackend._load_key\u001b[0;34m(self, openssl_read_func, data, password, unsafe_skip_rsa_key_validation)\u001b[0m\n\u001b[1;32m   1147\u001b[0m             \u001b[39mraise\u001b[39;00m \u001b[39mValueError\u001b[39;00m(\n\u001b[1;32m   1148\u001b[0m                 \u001b[39m\"\u001b[39m\u001b[39mPasswords longer than \u001b[39m\u001b[39m{}\u001b[39;00m\u001b[39m bytes are not supported \u001b[39m\u001b[39m\"\u001b[39m\n\u001b[1;32m   1149\u001b[0m                 \u001b[39m\"\u001b[39m\u001b[39mby this backend.\u001b[39m\u001b[39m\"\u001b[39m\u001b[39m.\u001b[39mformat(userdata\u001b[39m.\u001b[39mmaxsize \u001b[39m-\u001b[39m \u001b[39m1\u001b[39m)\n\u001b[1;32m   1150\u001b[0m             )\n\u001b[1;32m   1151\u001b[0m     \u001b[39melse\u001b[39;00m:\n\u001b[0;32m-> 1152\u001b[0m         \u001b[39mself\u001b[39;49m\u001b[39m.\u001b[39;49m_handle_key_loading_error()\n\u001b[1;32m   1154\u001b[0m evp_pkey \u001b[39m=\u001b[39m \u001b[39mself\u001b[39m\u001b[39m.\u001b[39m_ffi\u001b[39m.\u001b[39mgc(evp_pkey, \u001b[39mself\u001b[39m\u001b[39m.\u001b[39m_lib\u001b[39m.\u001b[39mEVP_PKEY_free)\n\u001b[1;32m   1156\u001b[0m \u001b[39mif\u001b[39;00m password \u001b[39mis\u001b[39;00m \u001b[39mnot\u001b[39;00m \u001b[39mNone\u001b[39;00m \u001b[39mand\u001b[39;00m userdata\u001b[39m.\u001b[39mcalled \u001b[39m==\u001b[39m \u001b[39m0\u001b[39m:\n",
      "File \u001b[0;32m~/.pyenv/versions/3.10.0/lib/python3.10/site-packages/cryptography/hazmat/backends/openssl/backend.py:1207\u001b[0m, in \u001b[0;36mBackend._handle_key_loading_error\u001b[0;34m(self)\u001b[0m\n\u001b[1;32m   1204\u001b[0m     \u001b[39mraise\u001b[39;00m \u001b[39mValueError\u001b[39;00m(\u001b[39m\"\u001b[39m\u001b[39mUnsupported public key algorithm.\u001b[39m\u001b[39m\"\u001b[39m)\n\u001b[1;32m   1206\u001b[0m \u001b[39melse\u001b[39;00m:\n\u001b[0;32m-> 1207\u001b[0m     \u001b[39mraise\u001b[39;00m \u001b[39mValueError\u001b[39;00m(\n\u001b[1;32m   1208\u001b[0m         \u001b[39m\"\u001b[39m\u001b[39mCould not deserialize key data. The data may be in an \u001b[39m\u001b[39m\"\u001b[39m\n\u001b[1;32m   1209\u001b[0m         \u001b[39m\"\u001b[39m\u001b[39mincorrect format, it may be encrypted with an unsupported \u001b[39m\u001b[39m\"\u001b[39m\n\u001b[1;32m   1210\u001b[0m         \u001b[39m\"\u001b[39m\u001b[39malgorithm, or it may be an unsupported key type (e.g. EC \u001b[39m\u001b[39m\"\u001b[39m\n\u001b[1;32m   1211\u001b[0m         \u001b[39m\"\u001b[39m\u001b[39mcurves with explicit parameters).\u001b[39m\u001b[39m\"\u001b[39m,\n\u001b[1;32m   1212\u001b[0m         errors,\n\u001b[1;32m   1213\u001b[0m     )\n",
      "\u001b[0;31mValueError\u001b[0m: ('Could not deserialize key data. The data may be in an incorrect format, it may be encrypted with an unsupported algorithm, or it may be an unsupported key type (e.g. EC curves with explicit parameters).', [<OpenSSLError(code=503841036, lib=60, reason=524556, reason_text=unsupported)>])"
     ]
    }
   ],
   "source": [
    "conn_snowflake = snowflake_connection(\n",
    "    snowflake_username,\n",
    "    snowflake_keypass,\n",
    "    snowflake_password,\n",
    "    snowflake_account,\n",
    "    snowflake_warehouse,\n",
    "    snowflake_database,\n",
    "    snowflake_role,\n",
    ")\n",
    "\n",
    "cursor_snowflake = conn_snowflake.cursor()"
   ]
  },
  {
   "cell_type": "code",
   "execution_count": null,
   "metadata": {},
   "outputs": [],
   "source": []
  }
 ],
 "metadata": {
  "kernelspec": {
   "display_name": "Python 3",
   "language": "python",
   "name": "python3"
  },
  "language_info": {
   "codemirror_mode": {
    "name": "ipython",
    "version": 3
   },
   "file_extension": ".py",
   "mimetype": "text/x-python",
   "name": "python",
   "nbconvert_exporter": "python",
   "pygments_lexer": "ipython3",
   "version": "3.10.0"
  }
 },
 "nbformat": 4,
 "nbformat_minor": 2
}
